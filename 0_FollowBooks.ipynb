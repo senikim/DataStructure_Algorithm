{
  "nbformat": 4,
  "nbformat_minor": 0,
  "metadata": {
    "colab": {
      "provenance": [],
      "authorship_tag": "ABX9TyNDsU71gnlFIs8n5jsWUtOZ"
    },
    "kernelspec": {
      "name": "python3",
      "display_name": "Python 3"
    },
    "language_info": {
      "name": "python"
    }
  },
  "cells": [
    {
      "cell_type": "markdown",
      "source": [
        "# 참고자료\n",
        "#### 파이썬 알고리즘 인터뷰\n",
        "> 95가지 알고리즘 문제 풀이로 완성하는 코딩 테스트\n",
        ">\n",
        "> 박상길\n",
        "\n",
        "#### 쓰면서 익히는 알고리즘과 자료구조\n",
        "> 윤대석"
      ],
      "metadata": {
        "id": "vwp-7qptm9A7"
      }
    },
    {
      "cell_type": "markdown",
      "source": [
        "## 자료구조 (Data Structures)"
      ],
      "metadata": {
        "id": "kh384zySncMY"
      }
    },
    {
      "cell_type": "markdown",
      "source": [
        "### 0. 복잡도"
      ],
      "metadata": {
        "id": "eUrQI_TIzYq8"
      }
    },
    {
      "cell_type": "code",
      "source": [
        "j = 0\n",
        "for i in range(N):\n",
        "  j += i\n",
        "# [시간복잡도 = O(N)]\n",
        "# [N까지 반복]\n",
        "\n",
        "k = 0\n",
        "for i in range(N):\n",
        "  for j in range(N):\n",
        "    k = i+j\n",
        "for i in range(N):\n",
        "  k += i\n",
        "# [시간복잡도 = O(N^2+N)]\n",
        "# [for문 안에 2번 반복 = N*N + 다른 for문 추가 = N]\n",
        "\n",
        "i = 0\n",
        "k = 0\n",
        "for i in range(int(n/2), n+1):\n",
        "  j = 2\n",
        "  while j <= n:\n",
        "    k = k + int(n/2)\n",
        "    j = j*2\n",
        "# [시간복잡도 = O(n/2 * log(n))]\n",
        "# [i = n/2만큼 수행 * j = log(n)만큼 수행]"
      ],
      "metadata": {
        "id": "tFjf_clezbDc"
      },
      "execution_count": null,
      "outputs": []
    },
    {
      "cell_type": "markdown",
      "source": [
        "### 1. 배열"
      ],
      "metadata": {
        "id": "h8lEYbsBm3xP"
      }
    },
    {
      "cell_type": "code",
      "source": [
        "# 정렬된 배열에서 중복제거\n",
        "def removeDuplicates(nums: list[int]):\n",
        "  if len(nums) <= 0:\n",
        "    return 0\n",
        "  curr = nums[0]\n",
        "  cnt = 1\n",
        "  for i in range(1, len(nums)):\n",
        "    if curr != nums[i]:\n",
        "      curr = nums[i]\n",
        "      nums[cnt] = curr\n",
        "        # [nums의 cnt번째 원소값을 curr값으로 변환 e.g: nums[0]=그대로, nums[1], nums[2], ... ,nums[cnt] = 중복되지 않은 curr값]\n",
        "        # [만약 cnt < len(nums)이면 앞에 cnt길이 만큼만 curr값으로 바뀌고 뒤에는 그대로이다.]\n",
        "      cnt += 1\n",
        "        # [다음 for문 회차에서는 cnt가 1씩 증가한 상태로 진행 (만약 curr != nums[i]이면)]\n",
        "  return cnt"
      ],
      "metadata": {
        "id": "39JXDOEzm-mB"
      },
      "execution_count": null,
      "outputs": []
    },
    {
      "cell_type": "code",
      "source": [
        "removeDuplicates(nums = [0,0,1,1,1,2])"
      ],
      "metadata": {
        "colab": {
          "base_uri": "https://localhost:8080/"
        },
        "id": "D3Epj7b5QJCD",
        "outputId": "8c8a2942-8626-4583-e1e5-0cec066ae254"
      },
      "execution_count": null,
      "outputs": [
        {
          "output_type": "execute_result",
          "data": {
            "text/plain": [
              "3"
            ]
          },
          "metadata": {},
          "execution_count": 30
        }
      ]
    },
    {
      "cell_type": "code",
      "source": [
        "# 정렬된 배열에서 삽입 위치 찾기\n",
        "# 1) 경우의 수\n",
        "def searchInsert(nums: list[int], target: int):\n",
        "  index = 0\n",
        "  while index < len(nums):\n",
        "    if target <= nums[index]:\n",
        "      break\n",
        "    index += 1\n",
        "  return index\n",
        "\n",
        "# [시간복잡도 : O(N) ; n번 순회하면서 break 지점 찾기 때문]"
      ],
      "metadata": {
        "id": "FqPVzXGfcKKb"
      },
      "execution_count": null,
      "outputs": []
    },
    {
      "cell_type": "code",
      "source": [
        "searchInsert(nums = [1,3,5,6], target = 0)\n",
        "  # [0]\n",
        "searchInsert(nums = [1,3,5,6], target = 100)\n",
        "  # [4]\n",
        "searchInsert(nums= [1,3,4,5], target = 2)\n",
        "  # [1]"
      ],
      "metadata": {
        "colab": {
          "base_uri": "https://localhost:8080/"
        },
        "id": "7I-oY4UTdnq7",
        "outputId": "d446f948-7528-4d8c-d7b9-ac36c094c437"
      },
      "execution_count": null,
      "outputs": [
        {
          "output_type": "execute_result",
          "data": {
            "text/plain": [
              "1"
            ]
          },
          "metadata": {},
          "execution_count": 38
        }
      ]
    },
    {
      "cell_type": "code",
      "source": [
        "# 2) 이진탐색\n",
        "# low, mid, high\n",
        "#   (1) low1 = 0, high1 = len(nums)-1,  mid1 = (low+high)/2\n",
        "#   (2) arr[mid1] > target : low2 = 0, high2 = mid1-1, mid2 = (low2+high2)/2\n",
        "#   (3) arr[mid2] < target : low3 = mid2+1, high3 = len(nums)-1, mid3 = (low3+high3)/2\n",
        "\n",
        "def searchInsert_ver2(nums: list[int], target: int):\n",
        "  low = 0\n",
        "  high = len(nums)-1\n",
        "    # [디폴트 : 전체 원소]\n",
        "\n",
        "  while low <= high:\n",
        "    mid = int((low+high)/2)\n",
        "      # [디폴트 : 전체에서 mid 값 구하기]\n",
        "      # [mid는 어느때나 (low+high)/2 이기 때문에 if에 넣지 않고 while 바로 이후에 적음]\n",
        "\n",
        "    if target == nums[mid]:\n",
        "      return mid\n",
        "\n",
        "    if target > nums[mid]:\n",
        "      low = mid+1\n",
        "        # [디폴트 상태를 절반으로 나눈 것 중 상위 부분에서 target 찾기]\n",
        "        # [high = len(nums)-1]\n",
        "\n",
        "    else:\n",
        "      high = mid-1\n",
        "        # [디폴트 상태를 절반으로 나눈 것 중 하위 부분에서 target 찾기]\n",
        "        # [low = 0]\n",
        "\n",
        "  return low\n",
        "    # [? : 왜 low를 return하는지 모르겠음]\n",
        "\n",
        "# [시간복잡도 : O(logN) ; 이진탐색이기 때문]"
      ],
      "metadata": {
        "id": "YsxJTefIeQvr"
      },
      "execution_count": null,
      "outputs": []
    },
    {
      "cell_type": "code",
      "source": [
        "searchInsert_ver2(nums = [1,3,5,6], target = 0)\n",
        "  # [0]\n",
        "searchInsert_ver2(nums= [1,3,4,5,6,7,8], target = 2)\n",
        "  # [1]"
      ],
      "metadata": {
        "colab": {
          "base_uri": "https://localhost:8080/"
        },
        "id": "Y_1vFFjbmOzM",
        "outputId": "ee4f196b-72a9-4aac-e2c6-06c468feadb6"
      },
      "execution_count": null,
      "outputs": [
        {
          "output_type": "execute_result",
          "data": {
            "text/plain": [
              "0"
            ]
          },
          "metadata": {},
          "execution_count": 41
        }
      ]
    },
    {
      "cell_type": "markdown",
      "source": [
        "### 2. 스택, 큐\n",
        "\n",
        "- 스택(stack) : 선입후출, 후입선출 ; 뺄 때 제일 나중에 들어간거 제일 먼저 뺌 (e.g. 택배 상하차)\n",
        "- 큐(que) : 선입선출, 먼저 들어간 거 제일 먼저 뺌 (e.g. 은행 창구)"
      ],
      "metadata": {
        "id": "YYY3KJhVm8DW"
      }
    },
    {
      "cell_type": "code",
      "source": [
        "def twoSum(self, nums: list[int], target: int) -> list[int]:\n",
        "  for i, n in enumerate(nums):\n",
        "    c = target-n\n",
        "\n",
        "    if c in nums[i+1:]:\n",
        "      return [nums.index(n), nums[i+1:].index(c)+(i+1)]"
      ],
      "metadata": {
        "id": "MnshcbOsskLi"
      },
      "execution_count": null,
      "outputs": []
    },
    {
      "cell_type": "code",
      "source": [
        "twoSum(nums = [2,7,11,15], target = 9)"
      ],
      "metadata": {
        "colab": {
          "base_uri": "https://localhost:8080/"
        },
        "id": "mdoZn5IUwG16",
        "outputId": "73168bbd-162f-43b6-f12b-f82360b71c09"
      },
      "execution_count": null,
      "outputs": [
        {
          "output_type": "execute_result",
          "data": {
            "text/plain": [
              "[0, 1]"
            ]
          },
          "metadata": {},
          "execution_count": 16
        }
      ]
    },
    {
      "cell_type": "code",
      "source": [
        "def twoSum_ver2(self, nums: list[int], target: int)->list[int]:\n",
        "  nums_map = {}"
      ],
      "metadata": {
        "id": "ql6dJfMTwSu1"
      },
      "execution_count": null,
      "outputs": []
    },
    {
      "cell_type": "markdown",
      "source": [
        "### 3. 검색 알고리즘\n",
        "원하는 값을 가진 원소를 찾아내는 알고리즘\n",
        "\n",
        "키 : 주목하는 항목, 검색하는 항목\n",
        "\n",
        "1. 배열 검색\n",
        "  - 선형 검색 : 무작위로 늘어놓은 데이터 집합에서 검색 수행\n",
        "  - 이진 검색 : **일정한 규칙**으로 늘어놓은 데이터 집합에서 아주 빠른 검색 수행\n",
        "  - 해시법 : **추가, 삭제**가 자주 일어나는 데이터 집합에서 아주 빠른 검색 수행\n",
        "2. 연결 리스트 검색\n",
        "3. 이진 검색 트리"
      ],
      "metadata": {
        "id": "-Y3ftTUlr9km"
      }
    },
    {
      "cell_type": "markdown",
      "source": [
        "#### (1) 선형 검색 : 직선 형태로 늘어난 집합에서 앞에서부터 순서대로 스캔\n",
        "\n",
        "배열 원소의 개수가 n이라면 이 조건(검색실패, 검색성공)*을 판단하는 횟수는 평균 n/2\n",
        "\n",
        "*) 검색실패 : 검색할 값을 찾지 못하고 배열의 맨 끝을 지난 경우\n",
        "\n",
        "*) 검색성공 : 검색할 값과 같은 원소 찾는 경우\n"
      ],
      "metadata": {
        "id": "2TJdku7eG1gj"
      }
    },
    {
      "cell_type": "code",
      "source": [
        "\n",
        "# 배열 a에서 검색하는 알고리즘\n",
        "i = 0\n",
        "  # 스캔할 때 주목하는 원소의 인덱스\n",
        "while True:\n",
        "  if i == len(a):\n",
        "    # 검색 실패\n",
        "  if a[i] == key:\n",
        "    # 검색 성공 (찾은 원소의 인덱스 = i)\n",
        "  i += 1\n",
        "\n",
        "# for문으로 변경\n",
        "for i in range(len(a)):\n",
        "  if a[i] == key:\n",
        "    return i\n",
        "  return -1\n"
      ],
      "metadata": {
        "id": "Sdg853kxvvhf"
      },
      "execution_count": null,
      "outputs": []
    },
    {
      "cell_type": "markdown",
      "source": [
        "#### (2) 이진 검색 : 원소가 오름차순/내림차순으로 정렬된 배열에서 좀 더 효율적으로 검색 가능\n",
        "\n",
        "- 검색범위의 맨 앞(pl), 중앙(pc), 맨 끝(pr) 값을 매번 설정 -> 검색 속도 높임\n",
        "\n",
        "  - a[pc] < key : 오른쪽으로 한칸 이동, 새로운 왼쪽 끝 값 = pl\n",
        "\n",
        "  - a[pc] > key : 왼쪽으로 한칸 이동, 새로운 오른쪽 끝 값 = pr\n",
        "\n",
        "- 종료 조건 : 1) a[pc] == key (중앙값 == key), 2) 검색 범위가 없는 경우"
      ],
      "metadata": {
        "id": "MYia2seVHALi"
      }
    },
    {
      "cell_type": "code",
      "source": [
        "from typing import Any, Sequence\n",
        "\n",
        "def bin_search(a: Sequence, key: Any):\n",
        "  pl = 0\n",
        "  pr = len(a)-1\n",
        "\n",
        "  while True:\n",
        "    pc = (pl+pr)//2\n",
        "    if pc == key:\n",
        "      return pc\n",
        "    elif pc < key:\n",
        "      # [오른쪽으로 이동]\n",
        "      pl = pc + 1\n",
        "    else:\n",
        "      pr = pc - 1\n",
        "\n",
        "    if pl > pr:\n",
        "      # [검색 범위가 없음 ; 종료조건2]\n",
        "      break\n",
        "    return -1\n"
      ],
      "metadata": {
        "id": "q2qKRVjJxEi_"
      },
      "execution_count": null,
      "outputs": []
    },
    {
      "cell_type": "code",
      "source": [
        "if __name__ == '__main__':\n",
        "  num = int(input('원소 수를 입력하세요 : '))\n",
        "  x = [None] * num\n",
        "    # [원소 수가 num인 배열 생성]\n",
        "\n",
        "  print('배열 데이터를 오름차순으로 입력하세요.')\n",
        "\n",
        "  x[0] = int(input('x[0]: '))\n",
        "  for i in range(1, num):\n",
        "    while True:\n",
        "      x[i] = int(input(f'x[{i}]: '))\n",
        "        # 배열 x에 들어갈 원소를 하나씩 입력\n",
        "      if x[i] >= x[i-1]:\n",
        "        # [바로 직전에 입력한 원솟값보다 큰 값을 입력]\n",
        "        break\n",
        "\n",
        "  ky = int(input('검색할 값을 입력하세요 :'))\n",
        "\n",
        "  idx = bin_search(x, ky)\n",
        "\n",
        "  if idx == -1:\n",
        "    print('검색값을 갖는 원소가 존재하지 않습니다.')\n",
        "  else:\n",
        "    print(f'검색값은 x[{idx}]에 있습니다.')\n",
        "\n",
        "# 비교 횟수 : 평균 logN"
      ],
      "metadata": {
        "colab": {
          "base_uri": "https://localhost:8080/"
        },
        "id": "InlWfLKXzR8N",
        "outputId": "8ac50ce8-4fbe-426d-b8be-a7df743e2fd8"
      },
      "execution_count": null,
      "outputs": [
        {
          "output_type": "stream",
          "name": "stdout",
          "text": [
            "원소 수를 입력하세요 : 7\n",
            "배열 데이터를 오름차순으로 입력하세요.\n",
            "x[0]: 1\n",
            "x[1]: 2\n",
            "x[2]: 3\n",
            "x[3]: 4\n",
            "x[4]: 5\n",
            "x[5]: 6\n",
            "x[6]: 7\n",
            "검색할 값을 입력하세요 :3\n",
            "검색값은 x[3]에 있습니다.\n"
          ]
        }
      ]
    },
    {
      "cell_type": "markdown",
      "source": [
        "#### (3) 해시법 : 추가, 삭제도 효율적으로 수행가능한 검색 알고리즘\n",
        "\"데이터를 저장할 위치 = 인덱스\"를 간단한 연산으로 구하는 것\n",
        "\n",
        "- 해시값(hash-value) : 키 값을 이용해서 만든 값 ; 데이터에 접근하는 기준  -> hash table\n",
        "- 해시함수(hash function) : key를 hash값으로 변환하는 과정, 일반적으로 나머지를 구하는 연산 또는 연산을 응용할 때 사용\n",
        "- 버킷(bucket) : 해시 테이블에서 만들어진 원소\n",
        "\n",
        "##### 해시 충돌\n",
        "- 버킷의 값이 동일해서 이미 값이 들어있을 때\n",
        "- 저장할 버킷이 중복되는 현상\n",
        "\n",
        "키와 해시값의 대응관계가 꼭 1:1일 필요 없음 -> 일반적으로 n:1\n",
        "\n",
        "해시함수는 가능한 한 해시값이 한쪽으로 치우치지 않고 고르게 분산된 값을 출력하는 것이 바람직\n",
        "\n",
        "##### 해결방법\n",
        "- 체인법 : 해시값이 같은 원소를 연결 리스트로 관리\n",
        "- 오픈주소법 : 빈 버킷을 찾을 때까지 해시 반복\n",
        "\n",
        "\n",
        "\n",
        "---\n",
        "\n",
        "\n",
        "1. 쓰는 이유\n",
        "    - 데이터 관리/유지\n",
        "    - 속도 향상 (리소스 < 속도)\n",
        "        \n",
        "        “데이터를 저장할 위치 = index” 를 간단한 연산으로 구하는 것\n",
        "        \n",
        "2. 원리\n",
        "    - 해싱(전체과정) : 값 → 해시함수(function) → 인덱스로 만듦\n",
        "        - 해당 값을 찾을 때 모든 자료에서 찾지 않고 변환한 인덱스(i.e 방,room)를 찾고\n",
        "        그 안에 찾는 값이 있는지 탐색\n",
        "    - 충돌(collusion) : 해시함수로 변환했더니 같은 인덱스 안에 들어가야하거나, 남은 방이 없을 때\n",
        "        - 체인 : index 방에 중복되는 값을 체인으로 계속 연결\n",
        "\n",
        "            - 문제점 : 중복되는 값마다 계속 체인으로 이으면 결국 index 방에 원소들이 많아져서 탐색 시간이 늘어난다.\n",
        "            애초에 hash법은 시간 줄이려고 쓰는건데 목적에 반함\n",
        "        - lenear Probing : 중복되지 않는 해시값을 먼저 다른 key에 배치시킨 후에 남은(충돌을 일으키는) 애를 비어있는 key에 배치.\n",
        "            - 문제점 : 더이상 비어있는 key가 없음\n",
        "        - Resizing : 해시 테이블 용량 늘림 → 해싱 → 재정렬\n",
        "3. 쓰는 상황 (예제)\n",
        "    \n",
        "    String을 기반으로 정보를 기록하고 관리해야 할 때\n",
        "    \n",
        "    (1) 완주하지 못한 선수 관리\n",
        "    \n",
        "    선수 이름(string) → 완주 여부(hash) 알아야 함\n",
        "    string key : bool value\n",
        "    \n",
        "    (2) 신고 결과 받기\n",
        "    \n",
        "    신고 당한 사람(string)을 기준으로 신고자들의 목록을 관리해야 할 때\n",
        "    \n",
        "    (3) 옷의 종류에 따라 몇 개의 옵션이 있는지\n",
        "    \n",
        "    옷(상의/하의/겉옷… , string) → 옵션\n",
        "    string key : integer value"
      ],
      "metadata": {
        "id": "tDJWTzqQHNIb"
      }
    },
    {
      "cell_type": "code",
      "source": [
        "# 체인법으로 해시 함수 구현하기\n",
        "\n",
        "from __future__ import annotations\n",
        "from typing import Any, Type\n",
        "import hashlib\n",
        "\n",
        "class Node:\n",
        "\n",
        "  def __init__(self, key: Any, value: Any, next: Node):\n",
        "      # [next : 뒤쪽 노드를 참조(node형)]\n",
        "    self.key = key\n",
        "    self.value = value\n",
        "    self.next = next\n",
        "\n",
        "# [Node 클래스는 키와 값이 짝을 이루는 구조, key에 해시함수 적용 -> 해시값]\n",
        "\n",
        "\n",
        "# 체인법으로 해시 클래스 구현\n",
        "\n",
        "class ChainedHash:\n",
        "\n",
        "  # 필드1. 해시 테이블 생성하는 함수\n",
        "  def __init__(self, capacity: int):\n",
        "    self.capacity = capacity\n",
        "      # [해시 테이블의 크기 지정]\n",
        "    self.table = [None]*self.capacity\n",
        "      # [해시 테이블 크기만큼 배열 만들기]\n",
        "\n",
        "  # 필드2. 해시값 구하는 함수\n",
        "  def hash_value(self, key: Any):\n",
        "    if isinstance(key, int):\n",
        "      return key % self.capacity\n",
        "    return(int(hashlib.sha256(str(key).encode()).hexdigest(),16) % self.capacity)\n",
        "\n",
        "# [sha256 알고리즘 : hashlib 모듈에서 제공, 주어진 byte 문자열의 해시값을 구하는 해시 알고리즘 생성자]\n",
        "# [encode() 함수 : hashlib.sha256에는 바이트 문자열의 인수를 전달해야 함, key를 str문자형으로 변환한 뒤 문자열을 encode()함수에 전달 -> 바이트 문자열 생성]\n",
        "# [hexdigest() 함수 : sha256에서 해시값을 16진수 문자열로 꺼냄]\n",
        "# [int() 함수 : 16진수 문자열을 int형으로 변환]"
      ],
      "metadata": {
        "id": "fYUy6M5qINNx"
      },
      "execution_count": null,
      "outputs": []
    },
    {
      "cell_type": "code",
      "source": [
        "# 검색하기 : search()\n",
        "# 1) 해시 함수를 사용하여 키를 해시값으로 변환\n",
        "# 2) 해시값을 인덱스로 하는 버킷에 주목, 3) 버킷이 참조하는 연결 리스트를 맨 앞부터 차례로 스캔 -> 키와 같은 값 발견하면 성공 / 끝까지 발견되지 않으면 실패\n",
        "\n",
        "def search(self, key: Any):\n",
        "  hash = self.hash_value(key)\n",
        "    # [검색하는 키의 해시값]\n",
        "  p = self.table[hash]\n",
        "    # hash를 인덱스로 하는 노드 주목\n",
        "\n",
        "  while p is not None:\n",
        "    if p.key == key:\n",
        "      return p.value\n",
        "        # [검색 성공]\n",
        "      p = p.next\n",
        "        # [뒤쪽 노드 주목]\n",
        "        # [다음 순차에서 계속적으로 뒷 노드로 진행할 수 있게끔]\n",
        "\n",
        "    return None\n",
        "      # [검색 실패]"
      ],
      "metadata": {
        "id": "ccFtcVk5INLi"
      },
      "execution_count": null,
      "outputs": []
    },
    {
      "cell_type": "code",
      "source": [
        "# 키가 key이고 값이 value인 원소 추가 : add()\n",
        "def add(self, key: Any, value: Any):\n",
        "  hash = self.hash_value(key)\n",
        "    # [추가하는 key의 해시값]\n",
        "  p = self.table[hash]\n",
        "    # [노드 주목]\n",
        "\n",
        "  while p is not None:\n",
        "    if p.key == key:\n",
        "      return False\n",
        "        # [추가 실패]\n",
        "      p = p.next\n",
        "\n",
        "  temp = Node(key, value, self.table[hash])\n",
        "    # [hashvalue 저장하는 Node 새로 생성]\n",
        "  self.table[hash] = temp\n",
        "  return True\n",
        "      # [추가 성공]\n",
        "\n",
        "'''\n",
        "# add함수\n",
        "- 키가 key이고 값이 value인 원소 추가\n",
        "(1) key -> 해시 값으로 변환\n",
        "(2) table[hash] : 해시값을 인덱스로 하는 버킷에 주목\n",
        "(3) 버킷이 참조하는 연결 리스트를 맨 앞부터 차례로 선형 검색.\n",
        "    - 키와 같은 값이 발견되면 이미 키가 등록된 경우이므로 추가 실패\n",
        "    - 원소의 맨 끝까지 발견되지 않으면 해시값인 리스트의 맨 앞에 노드를 추가\n",
        "'''"
      ],
      "metadata": {
        "id": "wO_m6KN-0XlR",
        "colab": {
          "base_uri": "https://localhost:8080/",
          "height": 54
        },
        "outputId": "cec67fef-9a17-41b3-8fab-35307561ab86"
      },
      "execution_count": null,
      "outputs": [
        {
          "output_type": "execute_result",
          "data": {
            "text/plain": [
              "'\\n# add함수 \\n- 키가 key이고 값이 value인 원소 추가\\n(1) key -> 해시 값으로 변환\\n(2) table[hash] : 해시값을 인덱스로 하는 버킷에 주목\\n(3) 버킷이 참조하는 연결 리스트를 맨 앞부터 차례로 선형 검색.\\n    - 키와 같은 값이 발견되면 이미 키가 등록된 경우이므로 추가 실패\\n    - 원소의 맨 끝까지 발견되지 않으면 해시값인 리스트의 맨 앞에 노드를 추가\\n'"
            ],
            "application/vnd.google.colaboratory.intrinsic+json": {
              "type": "string"
            }
          },
          "metadata": {},
          "execution_count": 5
        }
      ]
    },
    {
      "cell_type": "code",
      "source": [
        "# 원소 삭제하는 함수 : remove()\n",
        "# (1) 키 -> 해시값\n",
        "# (2) 해시값을 인덱스로 하는 버킷 주목\n",
        "# (3) 버킷에 참조하는 연결 리스트 맨 앞부터 차례로 선형 검색\n",
        "#     - 키와 같은 값이 발견되면 그 노드를 리스트에서 삭제 / 실패\n",
        "\n",
        "def remove(self, key: Any):\n",
        "  hash = self.hash_value(key)\n",
        "    # [key -> hash value]\n",
        "  p = self.table[hash]\n",
        "    # [hash가 인덱스인 노드 주목]\n",
        "  pp = None\n",
        "    # [바로 앞의 노드를 주목]\n",
        "\n",
        "  while p is not None:\n",
        "    if p.key == key:\n",
        "      if pp is None:\n",
        "        self.table[hash] = p.next\n",
        "      else:\n",
        "        pp.next = p.next\n",
        "      return True\n",
        "        # [삭제 성공]\n",
        "\n",
        "    pp = p\n",
        "    p = p.next\n",
        "  return False\n",
        "    # [삭제 실패 (key가 존재하지 않음)]"
      ],
      "metadata": {
        "id": "DiezgAv0N4wT"
      },
      "execution_count": null,
      "outputs": []
    },
    {
      "cell_type": "code",
      "source": [
        "# 원소를 출력하는 함수 : dump()\n",
        "# table[0]~table[capacity-1]까지 뒤쪽 노드를 찾아가면서 각 노드의 키와 값을 출력하는 작업 반복]\n",
        "# 출력값\n",
        "#   - 해시 테이블의 내용을 한꺼번에 출력\n",
        "#   - 해시값이 같은 버킷을 화살표로 표시 : 체인 모양 확인\n",
        "\n",
        "def dump(self):\n",
        "  for i in range(self.capacity):\n",
        "    p = self.table[i]\n",
        "    print(i, end = '')\n",
        "    while p is not None:\n",
        "      print(f' -> {p.key} ({p.value})', end = '')\n",
        "      p = p.next\n",
        "    print()"
      ],
      "metadata": {
        "id": "tspKCSt1PYCG"
      },
      "execution_count": null,
      "outputs": []
    },
    {
      "cell_type": "code",
      "source": [
        "# 실습코드\n",
        "\n",
        "from enum import Enum\n",
        "from chained_hash import ChainedHash\n",
        "\n",
        "Menu = Enum('Menu', ['추가', '삭제', '검색', '덤프', '종료'])\n",
        "\n",
        "def select_menu():\n",
        "  s = [f'({m.value}){m.name}' for m in Menu]\n",
        "  while True:\n",
        "    print(*s, sep = '  ', end = '')\n",
        "    n = int(input(': '))\n",
        "    if 1 <= n <= len(Menu):\n",
        "      return Menu(n)\n",
        "\n",
        "hash = ChainedHash(13)\n",
        "  # [크기가 13인 해시 테이블 생성]\n",
        "\n",
        "while True:\n",
        "  menu = select_menu()\n",
        "\n",
        "  if menu == Menu.추가:\n",
        "    key = int(input('추가할 키를 입력하세요: '))\n",
        "    val = input('추가할 값을 입력하세요: ')\n",
        "    if not hash.add(key, val):\n",
        "      print('추가를 실패했습니다!')\n",
        "\n",
        "  elif menu == Menu.삭제:\n",
        "    key = int(input('삭제할 키를 입력하세요: '))\n",
        "    if not hash.remove(key):\n",
        "      print('삭제를 실패했습니다')\n",
        "\n",
        "  elif menu == Menu.검색:\n",
        "    key = int(input('검색할 키를 입력하세요'))\n",
        "    t = hash.search(key)\n",
        "    if t is not None:\n",
        "      print(f'검색한 키를 갖는 값은 {t}입니다')\n",
        "    else:\n",
        "      print('검색할 데이터가 없습니다')\n",
        "\n",
        "  elif menu == Menu.덤프:\n",
        "    hash.dump()\n",
        "\n",
        "  else:\n",
        "    break"
      ],
      "metadata": {
        "colab": {
          "base_uri": "https://localhost:8080/",
          "height": 400
        },
        "id": "07twTdBZQWgE",
        "outputId": "c05d825f-c6f0-473f-a14d-6bfe85836d2f"
      },
      "execution_count": null,
      "outputs": [
        {
          "output_type": "error",
          "ename": "ModuleNotFoundError",
          "evalue": "ignored",
          "traceback": [
            "\u001b[0;31m---------------------------------------------------------------------------\u001b[0m",
            "\u001b[0;31mModuleNotFoundError\u001b[0m                       Traceback (most recent call last)",
            "\u001b[0;32m<ipython-input-13-af8908068528>\u001b[0m in \u001b[0;36m<cell line: 4>\u001b[0;34m()\u001b[0m\n\u001b[1;32m      2\u001b[0m \u001b[0;34m\u001b[0m\u001b[0m\n\u001b[1;32m      3\u001b[0m \u001b[0;32mfrom\u001b[0m \u001b[0menum\u001b[0m \u001b[0;32mimport\u001b[0m \u001b[0mEnum\u001b[0m\u001b[0;34m\u001b[0m\u001b[0;34m\u001b[0m\u001b[0m\n\u001b[0;32m----> 4\u001b[0;31m \u001b[0;32mfrom\u001b[0m \u001b[0mchained_hash\u001b[0m \u001b[0;32mimport\u001b[0m \u001b[0mChainedHash\u001b[0m\u001b[0;34m\u001b[0m\u001b[0;34m\u001b[0m\u001b[0m\n\u001b[0m\u001b[1;32m      5\u001b[0m \u001b[0;34m\u001b[0m\u001b[0m\n\u001b[1;32m      6\u001b[0m \u001b[0mMenu\u001b[0m \u001b[0;34m=\u001b[0m \u001b[0mEnum\u001b[0m\u001b[0;34m(\u001b[0m\u001b[0;34m'Menu'\u001b[0m\u001b[0;34m,\u001b[0m \u001b[0;34m[\u001b[0m\u001b[0;34m'추가'\u001b[0m\u001b[0;34m,\u001b[0m \u001b[0;34m'삭제'\u001b[0m\u001b[0;34m,\u001b[0m \u001b[0;34m'검색'\u001b[0m\u001b[0;34m,\u001b[0m \u001b[0;34m'덤프'\u001b[0m\u001b[0;34m,\u001b[0m \u001b[0;34m'종료'\u001b[0m\u001b[0;34m]\u001b[0m\u001b[0;34m)\u001b[0m\u001b[0;34m\u001b[0m\u001b[0;34m\u001b[0m\u001b[0m\n",
            "\u001b[0;31mModuleNotFoundError\u001b[0m: No module named 'chained_hash'",
            "",
            "\u001b[0;31m---------------------------------------------------------------------------\u001b[0;32m\nNOTE: If your import is failing due to a missing package, you can\nmanually install dependencies using either !pip or !apt.\n\nTo view examples of installing some common dependencies, click the\n\"Open Examples\" button below.\n\u001b[0;31m---------------------------------------------------------------------------\u001b[0m\n"
          ],
          "errorDetails": {
            "actions": [
              {
                "action": "open_url",
                "actionText": "Open Examples",
                "url": "/notebooks/snippets/importing_libraries.ipynb"
              }
            ]
          }
        }
      ]
    },
    {
      "cell_type": "code",
      "source": [
        "# 오픈 주소법 : 재해시를 수행하여 빈 버킷을 찾는 방법 ; 선형 탐사법\n",
        "# 재해시를 위한 해시 함수는 자유롭게 정할 수 있음\n",
        "\n",
        "# 오픈 주소법으로 해시 함수 구현하기\n",
        "from __future__ import annotations\n",
        "from typing import Any, Type\n",
        "from enum import Enum\n",
        "  # [Enum : 열거형, e.g) 요일 중에서 '월요일', '화요일'등의 값 중에서 하나만 선택할 때]\n",
        "import hashlib\n",
        "\n",
        "# 버킷의 속성\n",
        "class Status(Enum):\n",
        "  OCCUPIED = 0\n",
        "    # [데이터를 저장]\n",
        "  EMPTY = 1\n",
        "    # [버킷이 비어있음]\n",
        "  DELETED = 2\n",
        "    # [삭제 완료]\n",
        "\n",
        "## 해시를 구성하는 버킷 생성\n",
        "class Bucket:\n",
        "  def __init__(self, key: Any = None, value: Any = None, stat: Status = Status.EMPTY):\n",
        "    self.key = key\n",
        "    self.value = value\n",
        "    self.stat = stat\n",
        "\n",
        "  def set(self, key: Any, value: Any, stat: Status):\n",
        "    self.key = key\n",
        "    self.value = value\n",
        "    self.stat = stat\n",
        "\n",
        "  # 속성 추가\n",
        "  def set_status(self, stat: Status):\n",
        "    self.stat = stat\n",
        "\n",
        "\n",
        "## 오픈주소법으로 구현하는 해시 클래스\n",
        "class OpenHash:\n",
        "  def __init__(self, capacity: int):\n",
        "    self.capacity = capacity\n",
        "    self.table = [Bucket()]*self.capacity\n",
        "\n",
        "  # 해시함수 : 해시값을 구함\n",
        "  def hash_value(self, key: Any):\n",
        "    if isinstance(key, int):\n",
        "      return key % self.capacity\n",
        "      # [해시함수 : 만약 key가 정수이면 key를 capacity로 나눈 나머지를 반환]\n",
        "    return(int(hashlib.md5(str(key).encode()).hexdigest(), 16) % self.capacity)\n",
        "\n",
        "  # 재해시 함수 : 재해시값을 구함\n",
        "  def rehash_value(self, key: Any):\n",
        "    return(self.hash_value(key) + 1) % self.capacity\n",
        "      # [재해시 함수]\n",
        "\n",
        "  # 키가 key인 버킷을 검색\n",
        "  def search_node(self, key: Any):\n",
        "    hash = self.hash_value(key)\n",
        "    p = self.table[hash]\n",
        "\n",
        "    for i in range(self.capacity):\n",
        "      if p.stat == Status.EMPTY:\n",
        "        break\n",
        "      elif p.stat == Status.OCCPIED and p.key == key:\n",
        "        # [해시값이 key로 채워져 있음]\n",
        "        return p\n",
        "          # [버킷 반환]\n",
        "      hash = self.rehash_value(hash)\n",
        "      p = self.table[hash]\n",
        "      # [재해시 ; 그 외의 경우 재해시를 통해 다음 버킷으로 이동한 후 p값 변경 -> 같은 과정 반복]\n",
        "    return None\n",
        "\n",
        "  # 키가 key인 원소를 검색하여 반환\n",
        "  def search(self, key: Any):\n",
        "    p = self.search_node(key)\n",
        "    if p is not None:\n",
        "      return p.value\n",
        "      # [검색 성공]\n",
        "    else:\n",
        "      return None\n",
        "      # [검색 실패]\n",
        "\n",
        "  # 키가 key이고 값이 value인 원소 추가\n",
        "  def add(self, key: Any, value: Any):\n",
        "    if self.search(key) is not None:\n",
        "      return False\n",
        "        # [이미 등록된 키 ; 검색에 성공했으니까(not None)]\n",
        "\n",
        "    hash = self.hash_value(key)\n",
        "      # [추가하는 키의 해시값]\n",
        "    p = self.table[hash]\n",
        "    for i in range(self.capacity):\n",
        "      if p.stat == Status.EMPTY or p.stat == Status.DELETED:\n",
        "        self.table[hash] = Bucket(key, value, Status.OCCUPIED)\n",
        "        return True\n",
        "        # [버킷이 비어있는 곳(Empty)이나 삭제완료된(Deleted) 곳이면 새로운 key, value값 add]\n",
        "\n",
        "      hash = self.rehash_value(hash)\n",
        "      p = self.table[hash]\n",
        "        # [재해시를 통해 다음 버킷으로 이동해서 같은 과정 반복]\n",
        "    return False\n",
        "      # [False : 해시 테이블이 가득 참]\n",
        "\n",
        "  # 키가 key인 원소 삭제\n",
        "  def remove(self, key: Any):\n",
        "    p = self.search_node(key)\n",
        "    if p is None:\n",
        "      return False\n",
        "        # [이 키는 등록되어있지 않음 ; 버킷이 None이니까]\n",
        "      p.set_status(Status.DELETED)\n",
        "      return True\n",
        "\n",
        "  ## 해시 테이블을 덤프\n",
        "  def dump(self):\n",
        "    for i in range(self.capacity):\n",
        "      print(f'{i:2} ', end= '')\n",
        "      if self.table[i].stat == Status.OCCUPIED:\n",
        "        print(f'{self.table[i].key} ({self.table[i].value})')\n",
        "\n",
        "      elif self.table[i].stat == Status.EMPTY:\n",
        "        print('-- 미등록--')\n",
        "\n",
        "      elif self.table[i].stat == Status.DELETED:\n",
        "        print('--삭제 완료--')\n"
      ],
      "metadata": {
        "id": "bN2dzyRSTYV7"
      },
      "execution_count": null,
      "outputs": []
    },
    {
      "cell_type": "code",
      "source": [
        "# 오픈 주소법을 구현하는 해시 클래스 OpenHash 사용\n",
        "\n",
        "from enum import Enum\n",
        "from open_hash import OpenHash\n",
        "  # [위 클래스 작성한 부분을 open_hash.py로 저장해야 쓸 수 있음]\n",
        "  # [from 모듈 import 변수, 함수], [import 모듈 ; 모듈.class]\n",
        "\n",
        "Menu = Enum('Menu', ['추가', '삭제', '검색', '덤프', '종료'])\n",
        "  # [메뉴 선언]\n",
        "\n",
        "## 메뉴 선택\n",
        "def select_menu():\n",
        "  s = [f'({m.value}){m.name}' for m in Menu]\n",
        "  while True:\n",
        "    print(*s, sep = ' ', end = '')\n",
        "    n = int(input(': '))\n",
        "    if 1 <= n <= len(Menu):\n",
        "      return Menu(n)\n",
        "\n",
        "hash = OpenHash(13)\n",
        "  # [크기가 13인 해시테이블 생성]\n",
        "\n",
        "while True:\n",
        "  menu = select_menu()\n",
        "    # [메뉴 선택]\n",
        "\n",
        "  if menu == Menu.추가:\n",
        "    key = int(input('추가할 키를 입력하세요 : '))\n",
        "    val = input('추가할 값을 입력하세요 : ')\n",
        "    if not hash.add(key, val):\n",
        "      print('추가를 실패했습니다.')\n",
        "\n",
        "  elif menu == Menu.삭제:\n",
        "    key = int(input('삭제할 키를 입력하세요 : '))\n",
        "    if not hash.remove(key):\n",
        "      print('삭제를 실패했습니다.')\n",
        "\n",
        "  elif menu == Menu.검색:\n",
        "    key = int(input('검색할 키를 입력하세요 : '))\n",
        "    t = hash.search(key)\n",
        "    if t is not None:\n",
        "      print(f'검색한 키를 갖는 값은 {t}입니다.')\n",
        "    else:\n",
        "      print('검색할 데이터가 없습니다.')\n",
        "\n",
        "  elif menu == Menu.덤프:\n",
        "    hash.dump()\n",
        "\n",
        "  else:\n",
        "    break"
      ],
      "metadata": {
        "id": "HG9bGFREpjGT"
      },
      "execution_count": null,
      "outputs": []
    },
    {
      "cell_type": "code",
      "source": [],
      "metadata": {
        "id": "IBR8-DvcpyJ6"
      },
      "execution_count": null,
      "outputs": []
    },
    {
      "cell_type": "code",
      "source": [],
      "metadata": {
        "id": "llpuP2_eRvyp"
      },
      "execution_count": null,
      "outputs": []
    }
  ]
}